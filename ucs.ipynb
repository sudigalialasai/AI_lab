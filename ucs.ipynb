{
  "nbformat": 4,
  "nbformat_minor": 0,
  "metadata": {
    "colab": {
      "provenance": []
    },
    "kernelspec": {
      "name": "python3",
      "display_name": "Python 3"
    },
    "language_info": {
      "name": "python"
    }
  },
  "cells": [
    {
      "cell_type": "code",
      "execution_count": null,
      "metadata": {
        "colab": {
          "base_uri": "https://localhost:8080/"
        },
        "id": "yJa5abKr7obb",
        "outputId": "0cda46c7-1710-41b8-9c1f-975da4554fd5"
      },
      "outputs": [
        {
          "output_type": "stream",
          "name": "stdout",
          "text": [
            "shortest dist=10\n",
            "shortest dist=['A', 'C', 'E', 'F']\n"
          ]
        }
      ],
      "source": [
        "import sys\n",
        "from heapq import heapify,heappush,heappop\n",
        "\n",
        "\n",
        "def solve(graph,src,dest):\n",
        "    inf=sys.maxsize\n",
        "    node_data={\n",
        "    'A':{'cost':inf,'pred':[]},\n",
        "    'B':{'cost':inf,'pred':[]},\n",
        "    'C':{'cost':inf,'pred':[]},\n",
        "    'D':{'cost':inf,'pred':[]},\n",
        "    'E':{'cost':inf,'pred':[]},\n",
        "    'F':{'cost':inf,'pred':[]}\n",
        "    }\n",
        "\n",
        "    node_data[src]['cost']=0\n",
        "    visited=[]\n",
        "    temp=src\n",
        "    min_heap=[]\n",
        "    frontier=[]\n",
        "    heappush(min_heap,(node_data['A']['cost'],'A'))\n",
        "    while min_heap:\n",
        "              temp=min_heap[0][1]\n",
        "              heappop(min_heap)\n",
        "              if(temp==dest):\n",
        "                   break\n",
        "              visited.append(temp)\n",
        "\n",
        "              for j in graph[temp]:\n",
        "\n",
        "                    cost=node_data[temp]['cost']+graph[temp][j]\n",
        "                    if j not in frontier and j not in visited:\n",
        "                           node_data[j]['cost']=cost\n",
        "                           node_data[j]['pred']=node_data[temp]['pred']+list(temp)\n",
        "                           heappush(min_heap,(node_data[j]['cost'],j))\n",
        "                           frontier.append(j)\n",
        "\n",
        "                    elif(cost<node_data[j]['cost']):\n",
        "                        node_data[j]['cost']=cost\n",
        "                        node_data[j]['pred']=node_data[temp]['pred']+list(temp)\n",
        "\n",
        "              heapify(min_heap)\n",
        "\n",
        "    print(\"shortest dist=\"+str(node_data[dest]['cost']))\n",
        "    print(\"shortest dist=\"+str(node_data[dest]['pred']+list(dest)))\n",
        "\n",
        "\n",
        "\n",
        "\n",
        "if __name__==\"__main__\":\n",
        "    graph={\n",
        "        'A':{'B':2,'C':4},\n",
        "        'B':{'A':2,'C':3,'D':8},\n",
        "        'C':{'A':4,'B':3,'E':5,'D':2},\n",
        "        'D':{'B':8,'C':2,'E':11,'F':22},\n",
        "        'E':{'C':5,'D':11,'F':1},\n",
        "        'F':{'D':22,'E':1}\n",
        "    }\n",
        "\n",
        "    source='A'\n",
        "    dest='F'\n",
        "\n",
        "    solve(graph,source,dest)"
      ]
    }
  ]
}