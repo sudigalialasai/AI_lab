{
  "nbformat": 4,
  "nbformat_minor": 0,
  "metadata": {
    "colab": {
      "provenance": []
    },
    "kernelspec": {
      "name": "python3",
      "display_name": "Python 3"
    },
    "language_info": {
      "name": "python"
    }
  },
  "cells": [
    {
      "cell_type": "markdown",
      "source": [
        "Implement local search techniques such as Simulated Annealing\n",
        "to solve the 8-queens problem."
      ],
      "metadata": {
        "id": "FIbnJ6L5j0PB"
      }
    },
    {
      "cell_type": "markdown",
      "source": [
        "Importing all the required modules"
      ],
      "metadata": {
        "id": "kE526bTBkc8r"
      }
    },
    {
      "cell_type": "code",
      "source": [
        "import random\n",
        "import time\n",
        "import math"
      ],
      "metadata": {
        "id": "L9cVgkD_kkop"
      },
      "execution_count": null,
      "outputs": []
    },
    {
      "cell_type": "markdown",
      "source": [
        "function to create an random initial state of size 8 where the index are assumed to be the rows of the 8-queens problems and the values at that particular index are their respective columns"
      ],
      "metadata": {
        "id": "7xWfJ4O5kx33"
      }
    },
    {
      "cell_type": "code",
      "source": [
        "def inital_state():\n",
        "    return [random.randint(0,7) for i in range(8)]"
      ],
      "metadata": {
        "id": "S2isRiZplFN7"
      },
      "execution_count": null,
      "outputs": []
    },
    {
      "cell_type": "markdown",
      "source": [
        "function to decrease the temperature as time goes on by alpha percentage"
      ],
      "metadata": {
        "id": "8qII3B7tlOL0"
      }
    },
    {
      "cell_type": "code",
      "source": [
        "def Temperature_reduction(T,alpha):\n",
        "    return T*alpha\n"
      ],
      "metadata": {
        "id": "yOnEl3U7lgL-"
      },
      "execution_count": null,
      "outputs": []
    },
    {
      "cell_type": "markdown",
      "source": [
        "Defining an class Node which that contains attributes as state and cost where cost is the no of pairs of attacking queens.Calculate_cost()\n",
        "function calculates the no of attacking pairs of attacking queens,\n",
        "copy() gives the copy instance of the given node,\n",
        "neighbour() function gives the new node by changing the position of a queen of an random row to an any random column,print_8queens() print the particular state"
      ],
      "metadata": {
        "id": "T1MaMRLSlpvd"
      }
    },
    {
      "cell_type": "code",
      "source": [
        "class node:\n",
        "\n",
        "    def __init__(self,state,cost):\n",
        "        self.state=state\n",
        "        self.cost=self.calculate_cost()\n",
        "\n",
        "    def calculate_cost(self):\n",
        "        conflicts=0\n",
        "        for i in range(0,8):\n",
        "            for j in range(i+1,8):\n",
        "                if self.state[i]==self.state[j] or i-j==self.state[i]-self.state[j]:\n",
        "                    conflicts+=1\n",
        "\n",
        "        return conflicts\n",
        "\n",
        "    def copy(self):\n",
        "        return node(self.state,self.calculate_cost())\n",
        "\n",
        "    def neighbour(self):\n",
        "        new_state=self.copy()\n",
        "        row=random.randint(0,7)\n",
        "        column=random.randint(0,7)\n",
        "        new_state.state[row]=column\n",
        "        new_state.cost=new_state.calculate_cost()\n",
        "        return new_state\n",
        "\n",
        "    def print_8queens(self):\n",
        "        for i in range(len(self.state)):\n",
        "            for j in range(len(self.state)):\n",
        "                if(self.state[i]==j):\n",
        "                    print(\" Q \",end=\"\")\n",
        "                else:\n",
        "                    print(\" _ \",end=\"\")\n",
        "            print(\"\\n\")\n"
      ],
      "metadata": {
        "id": "G0Na7cYCoL5l"
      },
      "execution_count": null,
      "outputs": []
    },
    {
      "cell_type": "markdown",
      "source": [
        "for an give node generates an random node and calculates no of non attacking pairs and if the no of non-attacking pairs are less than the parent then jumps to the news node otherwise based on probablility it jumps to new node or remains the same node.Thiis function runs until  temperature is zero and for the given duration and till when the goal is reached"
      ],
      "metadata": {
        "id": "ZuvyY1dSo8Lo"
      }
    },
    {
      "cell_type": "code",
      "source": [
        "def simulated_annealing(duration):\n",
        "    board_state=node(inital_state(),0)\n",
        "    print(\"inital no of attacking pairs\",board_state.calculate_cost())\n",
        "    board_state.print_8queens()\n",
        "    board_cost=board_state.calculate_cost()\n",
        "    Temperature=1000\n",
        "    cooling_rate=0.95\n",
        "    inital_time=time.time()\n",
        "    probability=0\n",
        "\n",
        "    while(time.time()-inital_time<=duration):\n",
        "        if(board_cost==0):\n",
        "               print(\"states with pairs of queens that are not attacking each other has been reached\\n\")\n",
        "               board_state.print_8queens()\n",
        "               print(\"time taken==\",time.time()-inital_time)\n",
        "               return\n",
        "        neighbour=board_state.neighbour()\n",
        "        neighbour_cost=neighbour.calculate_cost()\n",
        "\n",
        "        delta=board_cost-neighbour_cost\n",
        "        Temperature=Temperature*cooling_rate\n",
        "        if(delta>0):\n",
        "            board_state=neighbour\n",
        "            board_cost=neighbour_cost\n",
        "\n",
        "        else:\n",
        "            if(Temperature<0):\n",
        "               break\n",
        "\n",
        "            if(math.exp(delta/Temperature)>probability):\n",
        "                board_state=neighbour\n",
        "                board_cost=neighbour_cost\n",
        "                probability=math.exp(delta/Temperature)\n",
        "\n",
        "    print(\"states with pairs of queens that are  attacking each other==\",board_state.calculate_cost())\n",
        "    board_state.print_8queens()\n",
        "    print(\"time taken==\",time.time()-inital_time)\n",
        "    return\n"
      ],
      "metadata": {
        "id": "HrgqLhRApQsh"
      },
      "execution_count": null,
      "outputs": []
    },
    {
      "cell_type": "markdown",
      "source": [
        "calling the function"
      ],
      "metadata": {
        "id": "0DlIkH9Qqr8o"
      }
    },
    {
      "cell_type": "code",
      "source": [
        "simulated_annealing(10)"
      ],
      "metadata": {
        "colab": {
          "base_uri": "https://localhost:8080/"
        },
        "id": "0j93UMSBqwRa",
        "outputId": "64419380-2a01-4557-ba23-a207efb7f5e8"
      },
      "execution_count": null,
      "outputs": [
        {
          "output_type": "stream",
          "name": "stdout",
          "text": [
            "inital no of attacking pairs 5\n",
            " Q  _  _  _  _  _  _  _ \n",
            "\n",
            " _  _  _  _  _  _  _  Q \n",
            "\n",
            " _  _  _  _  _  _  _  Q \n",
            "\n",
            " Q  _  _  _  _  _  _  _ \n",
            "\n",
            " _  Q  _  _  _  _  _  _ \n",
            "\n",
            " _  _  Q  _  _  _  _  _ \n",
            "\n",
            " _  _  _  _  Q  _  _  _ \n",
            "\n",
            " _  _  _  _  _  _  Q  _ \n",
            "\n",
            "states with pairs of queens that are not attacking each other has been reached\n",
            "\n",
            " _  _  _  _  _  _  _  Q \n",
            "\n",
            " _  _  Q  _  _  _  _  _ \n",
            "\n",
            " _  _  _  _  _  Q  _  _ \n",
            "\n",
            " _  _  _  Q  _  _  _  _ \n",
            "\n",
            " _  _  _  _  _  _  Q  _ \n",
            "\n",
            " _  _  _  _  Q  _  _  _ \n",
            "\n",
            " _  Q  _  _  _  _  _  _ \n",
            "\n",
            " Q  _  _  _  _  _  _  _ \n",
            "\n",
            "time taken== 0.7906954288482666\n"
          ]
        }
      ]
    },
    {
      "cell_type": "markdown",
      "source": [
        "function is allowed to run only based on time and temperature"
      ],
      "metadata": {
        "id": "9YgBSoLWrQN1"
      }
    },
    {
      "cell_type": "code",
      "source": [
        "def simulated_annealing_copy(duration):\n",
        "    board_state=node(inital_state(),0)\n",
        "    print(\"inital no of attacking pairs\",board_state.calculate_cost())\n",
        "    board_state.print_8queens()\n",
        "    board_cost=board_state.calculate_cost()\n",
        "    Temperature=1000\n",
        "    cooling_rate=0.95\n",
        "    inital_time=time.time()\n",
        "    probability=0\n",
        "\n",
        "    while(time.time()-inital_time<=duration):\n",
        "        if(board_cost==0):\n",
        "              ''' print(\"states with pairs of queens that are not attacking each other has been reached\\n\")\n",
        "               board_state.print_8queens()\n",
        "               print(\"time taken==\",time.time()-inital_time)\n",
        "               return'''\n",
        "        neighbour=board_state.neighbour()\n",
        "        neighbour_cost=neighbour.calculate_cost()\n",
        "\n",
        "        delta=board_cost-neighbour_cost\n",
        "        Temperature=Temperature*cooling_rate\n",
        "        if(delta>0):\n",
        "            board_state=neighbour\n",
        "            board_cost=neighbour_cost\n",
        "\n",
        "        else:\n",
        "            if(Temperature<0):\n",
        "               break\n",
        "\n",
        "            if(math.exp(delta/Temperature)>probability):\n",
        "                board_state=neighbour\n",
        "                board_cost=neighbour_cost\n",
        "                probability=math.exp(delta/Temperature)\n",
        "\n",
        "    print(\"states with pairs of queens that are  attacking each other==\",board_state.calculate_cost())\n",
        "    board_state.print_8queens()\n",
        "    print(\"time taken==\",time.time()-inital_time)\n",
        "    return\n"
      ],
      "metadata": {
        "id": "M39OKaNYrclA"
      },
      "execution_count": null,
      "outputs": []
    },
    {
      "cell_type": "markdown",
      "source": [
        "for 5 seconds of time"
      ],
      "metadata": {
        "id": "rbAAuNm6rpDt"
      }
    },
    {
      "cell_type": "code",
      "source": [
        "simulated_annealing_copy(5)"
      ],
      "metadata": {
        "colab": {
          "base_uri": "https://localhost:8080/"
        },
        "id": "MtSDrIrLrsbG",
        "outputId": "7219d4ca-2984-4f2d-f5e2-306b8b5083ac"
      },
      "execution_count": null,
      "outputs": [
        {
          "output_type": "stream",
          "name": "stdout",
          "text": [
            "inital no of attacking pairs 7\n",
            " _  Q  _  _  _  _  _  _ \n",
            "\n",
            " _  Q  _  _  _  _  _  _ \n",
            "\n",
            " Q  _  _  _  _  _  _  _ \n",
            "\n",
            " _  _  Q  _  _  _  _  _ \n",
            "\n",
            " _  Q  _  _  _  _  _  _ \n",
            "\n",
            " _  _  _  _  _  _  Q  _ \n",
            "\n",
            " _  _  _  _  _  _  Q  _ \n",
            "\n",
            " _  _  _  _  _  Q  _  _ \n",
            "\n",
            "states with pairs of queens that are  attacking each other== 7\n",
            " Q  _  _  _  _  _  _  _ \n",
            "\n",
            " _  Q  _  _  _  _  _  _ \n",
            "\n",
            " Q  _  _  _  _  _  _  _ \n",
            "\n",
            " _  _  Q  _  _  _  _  _ \n",
            "\n",
            " _  _  _  _  Q  _  _  _ \n",
            "\n",
            " _  _  _  Q  _  _  _  _ \n",
            "\n",
            " _  _  _  _  _  Q  _  _ \n",
            "\n",
            " _  _  _  _  Q  _  _  _ \n",
            "\n",
            "time taken== 5.013148069381714\n"
          ]
        }
      ]
    },
    {
      "cell_type": "code",
      "source": [
        "simulated_annealing_copy(10)"
      ],
      "metadata": {
        "colab": {
          "base_uri": "https://localhost:8080/"
        },
        "id": "pYNVSwK5rySC",
        "outputId": "d7dfcbd0-e91d-4965-9d1b-0c39f9860d75"
      },
      "execution_count": null,
      "outputs": [
        {
          "output_type": "stream",
          "name": "stdout",
          "text": [
            "inital no of attacking pairs 6\n",
            " _  _  Q  _  _  _  _  _ \n",
            "\n",
            " _  _  _  _  _  _  _  Q \n",
            "\n",
            " _  _  _  _  _  _  _  Q \n",
            "\n",
            " _  _  _  Q  _  _  _  _ \n",
            "\n",
            " _  _  _  _  _  _  Q  _ \n",
            "\n",
            " _  Q  _  _  _  _  _  _ \n",
            "\n",
            " _  _  _  _  _  _  _  Q \n",
            "\n",
            " _  _  _  Q  _  _  _  _ \n",
            "\n",
            "states with pairs of queens that are  attacking each other== 4\n",
            " _  _  _  Q  _  _  _  _ \n",
            "\n",
            " _  _  _  _  _  Q  _  _ \n",
            "\n",
            " Q  _  _  _  _  _  _  _ \n",
            "\n",
            " Q  _  _  _  _  _  _  _ \n",
            "\n",
            " _  _  _  Q  _  _  _  _ \n",
            "\n",
            " _  Q  _  _  _  _  _  _ \n",
            "\n",
            " _  _  Q  _  _  _  _  _ \n",
            "\n",
            " _  Q  _  _  _  _  _  _ \n",
            "\n",
            "time taken== 10.005888223648071\n"
          ]
        }
      ]
    }
  ]
}