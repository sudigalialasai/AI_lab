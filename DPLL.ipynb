{
  "cells": [
    {
      "cell_type": "markdown",
      "source": [
        "##Implement DPLL algorithm"
      ],
      "metadata": {
        "id": "AoUgmoKd4UsF"
      }
    },
    {
      "cell_type": "markdown",
      "source": [
        "@ --> union\n"
      ],
      "metadata": {
        "id": "eoyLrNYt3xoj"
      }
    },
    {
      "cell_type": "code",
      "execution_count": null,
      "metadata": {
        "id": "q6UA-ptC1Jw0"
      },
      "outputs": [],
      "source": [
        "import copy\n",
        "import pdb\n",
        "def Truth(clause):\n",
        "    #pdb.set_trace()\n",
        "    for keys in clause:\n",
        "        if(clause[keys]==-1):\n",
        "            return False\n",
        "    return True\n",
        "\n",
        "def someFalse(clause):\n",
        "    for keys in clause:\n",
        "        if(clause[keys]==0):\n",
        "            return True\n",
        "    return False\n",
        "\n",
        "\n",
        "def fixClauseValue(clause,copy_symbols,symbols):\n",
        "    for key in clause:\n",
        "        for i in range(len(key)):\n",
        "            if(key[i] in copy_symbols):\n",
        "                if(symbols[key[i]]==1 or symbols[key[i]]==0):\n",
        "                    clause[key]=1\n",
        "                    copy_symbols.remove(key[i])\n",
        "    return clause,copy_symbols,symbols\n",
        "\n",
        "\n",
        "\n",
        "\n",
        "def findPureSymbol(clause,copy_symbols,symbols):\n",
        "    #pdb.set_trace()\n",
        "    for key in clause:\n",
        "        for i in range(len(key)):\n",
        "            if(key[i] in copy_symbols):\n",
        "                if(symbols[key[i]]==-1):\n",
        "                    if(key[i-1]==\"~\"):\n",
        "                        symbols[key[i]]=0\n",
        "                    else:\n",
        "                        symbols[key[i]]=1\n",
        "                elif(symbols[key[i]]==1 and key[i-1]=='~'):\n",
        "                    symbols[key[i]]=2\n",
        "                elif(symbols[key[i]]==0 and key[i-1]!=\"~\"):\n",
        "                    symbols[key[i]]=2\n",
        "    return fixClauseValue(clause,copy_symbols,symbols)\n",
        "\n",
        "\n",
        "\n",
        "\n",
        "\n",
        "def findUnitClause(clause,copy_symbols,symbols):\n",
        "     #pdb.set_trace()\n",
        "     for key in clause:\n",
        "         if(len(key)<=2):\n",
        "            clause[key]=1\n",
        "\n",
        "            if(len(key)==1):\n",
        "                symbols[key[0]]=1\n",
        "                copy_symbols.remove(key[0])\n",
        "                tempClause,clause=MakeKeyClauseTrue(clause, symbols,copy_symbols,key,1)\n",
        "            else:\n",
        "                symbols[key[1]]=0\n",
        "                copy_symbols.remove(key[1])\n",
        "                tempClause,clause=MakeKeyClauseTrue(clause, symbols,copy_symbols,key,0)\n",
        "     return clause,copy_symbols,symbols\n",
        "\n",
        "def MakeKeyClauseTrue(clause, symbols,copy_symbols,key,num):\n",
        "    tempClause=[]\n",
        "    for keys in clause:\n",
        "        if(clause[keys]!=1 and key in keys):\n",
        "            for i in range(len(keys)):\n",
        "                if(keys[i]==key and num==1 and keys[i-1]!=\"~\"):\n",
        "                    clause[keys]=1\n",
        "                    tempClause.append(keys)\n",
        "                elif((keys[i]==key and num==0 and keys[i-1]==\"~\")):\n",
        "                    clause[keys]=1\n",
        "                    tempClause.append(keys)\n",
        "\n",
        "    return tempClause,clause\n",
        "\n",
        "\n",
        "\n",
        "\n",
        "\n",
        "def DPLL(clause, symbols,copy_symbols,temp):\n",
        "    #pdb.set_trace()\n",
        "    if Truth(clause):\n",
        "        return True,symbols,copy_symbols\n",
        "    if someFalse(clause):\n",
        "        return False,symbols,copy_symbols\n",
        "\n",
        "    if len(copy_symbols) == 0:\n",
        "        return False,symbols,copy_symbols\n",
        "    if temp==0:\n",
        "      clause,copy_symbols,symbols=findUnitClause(clause, copy_symbols,symbols)\n",
        "      clause,copy_symbols,symbols=findPureSymbol(clause, copy_symbols,symbols)\n",
        "\n",
        "    if len(copy_symbols) == 0:\n",
        "        return True,symbols,copy_symbols\n",
        "\n",
        "    key=copy_symbols.pop()\n",
        "    symbols[key]=1\n",
        "    clause_copy=copy.deepcopy(clause)\n",
        "    tempClause,clause=MakeKeyClauseTrue(clause, symbols,copy_symbols,key,1)\n",
        "    result_true,symbols,copy_symbols = DPLL(clause, symbols,copy_symbols,1)\n",
        "    if result_true:\n",
        "        return True,symbols,copy_symbols\n",
        "    symbols[key]=0\n",
        "    clause=clause_copy\n",
        "    tempClause,clause=MakeKeyClauseTrue(clause, symbols,copy_symbols,key,0)\n",
        "    result_false,symbols,copy_symbols = DPLL(clause, symbols,copy_symbols,1)\n",
        "    return result_false,symbols,copy_symbols\n",
        "\n",
        "clause = {\"p@q\":-1, \"p@~q\":-1, \"~q@r\":-1, \"r\":-1}\n",
        "symbols = {\"p\":-1, \"q\":-1, \"r\":-1}\n",
        "copy_symbols=[\"p\", \"q\", \"r\"]\n",
        "\n",
        "result,symbols,copy_symbols = DPLL(clause, symbols,copy_symbols,0)\n",
        "if result:\n",
        "    print(\"Satisfiable\" if result else \"Unsatisfiable\")\n",
        "    print(symbols)\n",
        "    for i in symbols:\n",
        "        if symbols[i]==1:\n",
        "            print(i+\"==>True\")\n",
        "        else:\n",
        "            print(i+\"==>False\")\n"
      ]
    },
    {
      "cell_type": "markdown",
      "metadata": {
        "id": "c9-biwHRzHtY"
      },
      "source": [
        "##for n=1 to 100, BirthParadox problem"
      ]
    },
    {
      "cell_type": "code",
      "execution_count": null,
      "metadata": {
        "colab": {
          "base_uri": "https://localhost:8080/",
          "height": 472
        },
        "id": "TOV5DpPJQb4D",
        "outputId": "ab48e0e7-1bfc-4022-bdcb-4c7ed87c5ece"
      },
      "outputs": [
        {
          "output_type": "display_data",
          "data": {
            "text/plain": [
              "<Figure size 640x480 with 1 Axes>"
            ],
            "image/png": "[encoded data removed]"
          },
          "metadata": {}
        }
      ],
      "source": [
        "import math\n",
        "import matplotlib.pyplot as plt\n",
        "\n",
        "def calculate(n):\n",
        "    prob = 1.0\n",
        "    for i in range(n):\n",
        "        prob *= (365 - i) / 365\n",
        "    return 1 - prob\n",
        "\n",
        "def plot_birthday_paradox():\n",
        "    x_coordinates = []\n",
        "    y_coordinates = []\n",
        "\n",
        "    for i in range(1, 100):\n",
        "        x = i\n",
        "        y = calculate(i)\n",
        "        x_coordinates.append(x)\n",
        "        y_coordinates.append(y)\n",
        "\n",
        "    plt.plot(x_coordinates, y_coordinates)\n",
        "    plt.xlabel('Number of People')\n",
        "    plt.ylabel('Probability of Shared Birthday')\n",
        "    plt.title('Birthday Paradox')\n",
        "    plt.grid(True)\n",
        "    plt.show()\n",
        "\n",
        "\n",
        "plot_birthday_paradox()\n"
      ]
    }
  ],
  "metadata": {
    "colab": {
      "provenance": []
    },
    "kernelspec": {
      "display_name": "Python 3",
      "name": "python3"
    },
    "language_info": {
      "name": "python"
    }
  },
  "nbformat": 4,
  "nbformat_minor": 0
}