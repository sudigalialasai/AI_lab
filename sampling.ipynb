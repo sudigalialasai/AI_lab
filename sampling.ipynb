{
  "nbformat": 4,
  "nbformat_minor": 0,
  "metadata": {
    "colab": {
      "provenance": []
    },
    "kernelspec": {
      "name": "python3",
      "display_name": "Python 3"
    },
    "language_info": {
      "name": "python"
    }
  },
  "cells": [
    {
      "cell_type": "markdown",
      "source": [
        "##Gibbs sampling"
      ],
      "metadata": {
        "id": "dJ4VTDWzaUc4"
      }
    },
    {
      "cell_type": "markdown",
      "source": [
        "###P(High Income | Payment = payback)"
      ],
      "metadata": {
        "id": "cNcpG2tNaez6"
      }
    },
    {
      "cell_type": "code",
      "execution_count": null,
      "metadata": {
        "colab": {
          "base_uri": "https://localhost:8080/"
        },
        "id": "2b5IttON3Rpx",
        "outputId": "1d8fbc9d-6c5d-4214-8bfe-e2a80f1e4c57"
      },
      "outputs": [
        {
          "output_type": "stream",
          "name": "stdout",
          "text": [
            "0.4519340000000265\n"
          ]
        }
      ],
      "source": [
        "import random\n",
        "\n",
        "income_prob =  {0:0.7 ,  1:0.3} # 0 indicates low income , 1 indicates high income\n",
        "housing_prob = {0:0.65,  1:0.35} #0 indicates tenant and 1 indictes real_estate\n",
        "deposit_prob = {0:{0:0.4, 1:0.6} , 1:{0:0.9, 1:0.1}} # key zero indicates income, in the inner dic, 0,1 inc=dicate small deposit and large deposit\n",
        "payment_prob = {(0,0):{0:0.4 , 1:0.6} , (0,1):{0:0.55 , 1:0.45} , (1,0):{0:0.5 , 1:0.5} , (1,1):{0:0.95 , 1:0.05}} # outer key (x,y) --> (Income ,Deposit), inner dic 0,1 indicte payback, default\n",
        "security_prob = {(0,0):{0:0.69 , 1:0.31}, (0,1):{0:0.5 , 1:0.5}, (1,0):{0: 0.25, 1:0.75} , (1,1):{0:0.99 , 1:0.01}} # outer key (x,y) --> (Housing, Payment), inner dic 0,1 indicate no security, security\n",
        "\n",
        "def mrv(index,evidences,non_evidence):\n",
        "    if index==0:\n",
        "        x=non_evidence.pop(0)\n",
        "        x=non_evidence.pop(1)\n",
        "\n",
        "\n",
        "\n",
        "    if index==1:\n",
        "        x=non_evidence.pop(0)\n",
        "        x=non_evidence.pop(0)\n",
        "\n",
        "    if index==2:\n",
        "        x=non_evidence.pop(1)\n",
        "        x=non_evidence.pop(1)\n",
        "\n",
        "    if index==3:\n",
        "        x=non_evidence.pop(0)\n",
        "        x=non_evidence.pop(1)\n",
        "    return evidences,non_evidence\n",
        "\n",
        "\n",
        "def gibbs(num_samples, evidence):\n",
        "    total_weight = 0\n",
        "    true_weight = 0\n",
        "\n",
        "    for _ in range(num_samples):\n",
        "        # Step 1: Generate a sample for income and housing\n",
        "        income_sample =  random.choices([0, 1], [income_prob[0], income_prob[1]])[0]\n",
        "        housing_sample =  random.choices([0,1], [housing_prob[0], housing_prob[1]])[0]\n",
        "\n",
        "        # Step 2: Given the sample, generate samples for deposit, payment, security\n",
        "        deposit_sample = random.choices([0, 1], [deposit_prob[income_sample][0], deposit_prob[income_sample][1]])[0]\n",
        "        payment_sample = random.choices([0, 1], [payment_prob[(income_sample,deposit_sample)][0], payment_prob[(income_sample,deposit_sample)][1]])[0]\n",
        "        security_sample = random.choices([0, 1],[security_prob[(housing_sample,payment_sample)][0], security_prob[(housing_sample,payment_sample)][1]])[0]\n",
        "\n",
        "        non_evidence=[income_prob[income_sample],housing_prob[housing_sample],\n",
        "                      deposit_prob[income_sample][deposit_sample] ,security_prob[(housing_sample,payment_sample)][security_sample]]\n",
        "        evidences=[payment_prob[(income_sample,deposit_sample)][0] ]\n",
        "        index = random.randint(0, len(non_evidence) - 1)\n",
        "        x=non_evidence.pop(index)\n",
        "        evidences,non_evidence=mrv(index,evidences,non_evidence)\n",
        "        probability=0\n",
        "        if index==0:\n",
        "            probability=income_prob[(income_sample+1)%2]\n",
        "        elif index==1:\n",
        "            probability=housing_prob[(housing_sample+1)%2]\n",
        "        elif index==2:\n",
        "            probability=deposit_prob[income_sample][(deposit_sample+1)%2]\n",
        "        else:\n",
        "            probability=security_prob[(housing_sample,payment_sample)][(security_sample+1)%2]\n",
        "\n",
        "        alpha=1\n",
        "        for i in non_evidence:\n",
        "            alpha*=i\n",
        "        for i in evidences:\n",
        "            alpha*=i\n",
        "\n",
        "        alpha0=(alpha*x)/((alpha*x)+(alpha*probability))\n",
        "        alpha1=1-alpha0\n",
        "\n",
        "        total_weight +=alpha0+alpha1\n",
        "\n",
        "        if income_sample == 1 :\n",
        "            true_weight += alpha0\n",
        "        else:\n",
        "            true_weight+=alpha1\n",
        "\n",
        "    # Estimate the probability by dividing the valid samples by the total samples\n",
        "    probability =  true_weight / total_weight\n",
        "    return probability\n",
        "\n",
        "\n",
        "evidence = {'Payment': 0}\n",
        "\n",
        "# Perform rejection sampling with 10000 samples\n",
        "num_samples = 10000\n",
        "result = gibbs(num_samples, evidence)\n",
        "print(result)\n",
        "\n"
      ]
    },
    {
      "cell_type": "markdown",
      "source": [
        "###Likelihood sampling"
      ],
      "metadata": {
        "id": "I1sNAjw4a-MU"
      }
    },
    {
      "cell_type": "code",
      "source": [
        "import random\n",
        "\n",
        "income_prob =  {0:0.7 ,  1:0.3} # 0 indicates low income , 1 indicates high income\n",
        "housing_prob = {0:0.65,  1:0.35} #0 indicates tenant and 1 indictes real_estate\n",
        "deposit_prob = {0:{0:0.4, 1:0.6} , 1:{0:0.9, 1:0.1}} # key zero indicates income, in the inner dic, 0,1 inc=dicate small deposit and large deposit\n",
        "payment_prob = {(0,0):{0:0.4 , 1:0.6} , (0,1):{0:0.55 , 1:0.45} , (1,0):{0:0.5 , 1:0.5} , (1,1):{0:0.95 , 1:0.05}} # outer key (x,y) --> (Income ,Deposit), inner dic 0,1 indicte payback, default\n",
        "security_prob = {(0,0):{0:0.69 , 1:0.31}, (0,1):{0:0.5 , 1:0.5}, (1,0):{0: 0.25, 1:0.75} , (1,1):{0:0.99 , 1:0.01}} # outer key (x,y) --> (Housing, Payment), inner dic 0,1 indicate no security, security\n",
        "\n",
        "def mrv(index,evidences,non_evidence):\n",
        "    if index==0:\n",
        "        x=non_evidence.pop(0)\n",
        "        x=evidences.pop(0)\n",
        "\n",
        "    if index==1:\n",
        "        x=non_evidence.pop(1)\n",
        "        x=evidences.pop(1)\n",
        "\n",
        "    if index==2:\n",
        "        pass\n",
        "\n",
        "\n",
        "    return evidences,non_evidence\n",
        "\n",
        "\n",
        "def gibbs(num_samples, evidence):\n",
        "    total_weight = 0\n",
        "    true_weight = 0\n",
        "\n",
        "    for _ in range(num_samples):\n",
        "        # Step 1: Generate a sample for income and housing\n",
        "        income_sample =  random.choices([0, 1], [income_prob[0], income_prob[1]])[0]\n",
        "        housing_sample =  random.choices([0,1], [housing_prob[0], housing_prob[1]])[0]\n",
        "\n",
        "        # Step 2: Given the sample, generate samples for deposit, payment, security\n",
        "        deposit_sample = random.choices([0, 1], [deposit_prob[income_sample][0], deposit_prob[income_sample][1]])[0]\n",
        "        payment_sample = random.choices([0, 1], [payment_prob[(income_sample,deposit_sample)][0], payment_prob[(income_sample,deposit_sample)][1]])[0]\n",
        "        security_sample = random.choices([0, 1],[security_prob[(housing_sample,payment_sample)][0], security_prob[(housing_sample,payment_sample)][1]])[0]\n",
        "\n",
        "        non_evidence=[housing_prob[housing_sample],\n",
        "                      deposit_prob[income_sample][deposit_sample]\n",
        "                      ,payment_prob[(income_sample,deposit_sample)][payment_sample]]\n",
        "        evidences=[income_prob[0],security_prob[(housing_sample,payment_sample)][0] ]\n",
        "\n",
        "        index = random.randint(0, len(non_evidence) - 1)\n",
        "        x=non_evidence.pop(index)\n",
        "        evidences,non_evidence=mrv(index,evidences,non_evidence)\n",
        "        probability=0\n",
        "        if index==0:\n",
        "            probability=housing_prob[(housing_sample+1)%2]\n",
        "        elif index==1:\n",
        "            probability=deposit_prob[income_sample][(deposit_sample+1)%2]\n",
        "\n",
        "\n",
        "        else:\n",
        "            probability=payment_prob[(income_sample,deposit_sample)][(payment_sample+1)%2]\n",
        "\n",
        "        alpha=1\n",
        "        for i in non_evidence:\n",
        "            alpha*=i\n",
        "        for i in evidences:\n",
        "            alpha*=i\n",
        "\n",
        "        alpha0=(alpha*x)/((alpha*x)+(alpha*probability))\n",
        "        alpha1=1-alpha0\n",
        "\n",
        "        total_weight +=alpha0+alpha1\n",
        "\n",
        "        if income_sample == 1 :\n",
        "            true_weight += alpha0\n",
        "        else:\n",
        "            true_weight+=alpha1\n",
        "\n",
        "    # Estimate the probability by dividing the valid samples by the total samples\n",
        "    probability =  true_weight / total_weight\n",
        "    return probability\n",
        "\n",
        "\n",
        "evidence = {'Payment': 0}\n",
        "\n",
        "# Perform rejection sampling with 10000 samples\n",
        "num_samples = 10000\n",
        "result = gibbs(num_samples, evidence)\n",
        "print(result)\n",
        "\n"
      ],
      "metadata": {
        "colab": {
          "base_uri": "https://localhost:8080/"
        },
        "id": "CKY58FzVTgHE",
        "outputId": "88ef2227-c49a-4d26-b56f-90f0ce3d10cc"
      },
      "execution_count": null,
      "outputs": [
        {
          "output_type": "stream",
          "name": "stdout",
          "text": [
            "0.5206649999999934\n"
          ]
        }
      ]
    },
    {
      "cell_type": "markdown",
      "source": [
        "###P(Payment = default | Deposit = Large)\n"
      ],
      "metadata": {
        "id": "MrUjHcqQbHug"
      }
    },
    {
      "cell_type": "code",
      "source": [
        "import random\n",
        "\n",
        "income_prob =  {0:0.7 ,  1:0.3} # 0 indicates low income , 1 indicates high income\n",
        "housing_prob = {0:0.65,  1:0.35} #0 indicates tenant and 1 indictes real_estate\n",
        "deposit_prob = {0:{0:0.4, 1:0.6} , 1:{0:0.9, 1:0.1}} # key zero indicates income, in the inner dic, 0,1 inc=dicate small deposit and large deposit\n",
        "payment_prob = {(0,0):{0:0.4 , 1:0.6} , (0,1):{0:0.55 , 1:0.45} , (1,0):{0:0.5 , 1:0.5} , (1,1):{0:0.95 , 1:0.05}} # outer key (x,y) --> (Income ,Deposit), inner dic 0,1 indicte payback, default\n",
        "security_prob = {(0,0):{0:0.69 , 1:0.31}, (0,1):{0:0.5 , 1:0.5}, (1,0):{0: 0.25, 1:0.75} , (1,1):{0:0.99 , 1:0.01}} # outer key (x,y) --> (Housing, Payment), inner dic 0,1 indicate no security, security\n",
        "\n",
        "def mrv(index,evidences,non_evidence):\n",
        "    if index==0:\n",
        "        x=non_evidence.pop(0)\n",
        "        x=evidences.pop(0)\n",
        "\n",
        "    if index==1:\n",
        "        x=non_evidence.pop(0)\n",
        "        x=non_evidence.pop(0)\n",
        "\n",
        "    if index==2:\n",
        "        x=non_evidence.pop(1)\n",
        "        x=evidences.pop(0)\n",
        "\n",
        "\n",
        "    return evidences,non_evidence\n",
        "\n",
        "\n",
        "def rejection_sampling(num_samples, evidence):\n",
        "    total_weight = 0\n",
        "    true_weight = 0\n",
        "\n",
        "    for _ in range(num_samples):\n",
        "        # Step 1: Generate a sample for income and housing\n",
        "        income_sample =  random.choices([0, 1], [income_prob[0], income_prob[1]])[0]\n",
        "        housing_sample =  random.choices([0,1], [housing_prob[0], housing_prob[1]])[0]\n",
        "\n",
        "        # Step 2: Given the sample, generate samples for deposit, payment, security\n",
        "        deposit_sample = random.choices([0, 1], [deposit_prob[income_sample][0], deposit_prob[income_sample][1]])[0]\n",
        "        payment_sample = random.choices([0, 1], [payment_prob[(income_sample,deposit_sample)][0], payment_prob[(income_sample,deposit_sample)][1]])[0]\n",
        "        security_sample = random.choices([0, 1],[security_prob[(housing_sample,payment_sample)][0], security_prob[(housing_sample,payment_sample)][1]])[0]\n",
        "\n",
        "        non_evidence=[housing_prob[housing_sample],\n",
        "                      income_prob[income_sample],\n",
        "                         security_prob[(housing_sample,payment_sample)][security_sample],\n",
        "                      payment_prob[(income_sample,deposit_sample)][payment_sample]]\n",
        "        evidences=[deposit_prob[income_sample][1]]-\n",
        "\n",
        "        index = random.randint(0, len(non_evidence) - 1)\n",
        "        x=non_evidence.pop(index)\n",
        "        evidences,non_evidence=mrv(index,evidences,non_evidence)\n",
        "        probability=0\n",
        "        if index==0:\n",
        "            probability=housing_prob[(housing_sample+1)%2]\n",
        "        elif index==1:\n",
        "            probability=income_prob[(income_sample+1)%2]\n",
        "        elif index==2:\n",
        "            probability=security_prob[(housing_sample,payment_sample)][(security_sample+1)%2]\n",
        "        else:\n",
        "            probability=payment_prob[(income_sample,deposit_sample)][(payment_sample+1)%2]\n",
        "\n",
        "        alpha=1\n",
        "        for i in non_evidence:\n",
        "            alpha*=i\n",
        "        for i in evidences:\n",
        "            alpha*=i\n",
        "\n",
        "        alpha0=(alpha*x)/((alpha*x)+(alpha*probability))\n",
        "        alpha1=1-alpha0\n",
        "\n",
        "        total_weight +=alpha0+alpha1\n",
        "\n",
        "        if income_sample == 1 :\n",
        "            true_weight += alpha0\n",
        "        else:\n",
        "            true_weight+=alpha1\n",
        "\n",
        "    # Estimate the probability by dividing the valid samples by the total samples\n",
        "    probability =  true_weight / total_weight\n",
        "    return probability\n",
        "\n",
        "\n",
        "evidence = {'Payment': 0}\n",
        "\n",
        "# Perform rejection sampling with 10000 samples\n",
        "num_samples = 10000\n",
        "result = rejection_sampling(num_samples, evidence)\n",
        "print(result)\n",
        "\n"
      ],
      "metadata": {
        "colab": {
          "base_uri": "https://localhost:8080/"
        },
        "id": "UdIf0OmlWzq2",
        "outputId": "282fdea2-88c6-4925-a3a0-d5bc7584a759"
      },
      "execution_count": null,
      "outputs": [
        {
          "output_type": "stream",
          "name": "stdout",
          "text": [
            "0.43277300000001934\n"
          ]
        }
      ]
    },
    {
      "cell_type": "markdown",
      "source": [
        "##Likelihood sampling"
      ],
      "metadata": {
        "id": "-EiV3ifHbS4O"
      }
    },
    {
      "cell_type": "markdown",
      "source": [
        "##P(High Income | Payment = payback)"
      ],
      "metadata": {
        "id": "gjldSNn9cBuK"
      }
    },
    {
      "cell_type": "code",
      "source": [
        "import random\n",
        "\n",
        "income_prob =  {0:0.7 ,  1:0.3} # 0 indicates low income , 1 indicates high income\n",
        "housing_prob = {0:0.65,  1:0.35} #0 indicates tenant and 1 indictes real_estate\n",
        "deposit_prob = {0:{0:0.4, 1:0.6} , 1:{0:0.9, 1:0.1}} # key zero indicates income, in the inner dic, 0,1 inc=dicate small deposit and large deposit\n",
        "payment_prob = {(0,0):{0:0.4 , 1:0.6} , (0,1):{0:0.55 , 1:0.45} , (1,0):{0:0.5 , 1:0.5} , (1,1):{0:0.95 , 1:0.05}} # outer key (x,y) --> (Income ,Deposit), inner dic 0,1 indicte payback, default\n",
        "security_prob = {(0,0):{0:0.69 , 1:0.31}, (0,1):{0:0.5 , 1:0.5}, (1,0):{0: 0.25, 1:0.75} , (1,1):{0:0.99 , 1:0.01}} # outer key (x,y) --> (Housing, Payment), inner dic 0,1 indicate no security, security\n",
        "\n",
        "\n",
        "\n",
        "def likelihood_sampling(num_samples, evidence):\n",
        "    total_weight = 0\n",
        "    true_weight = 0\n",
        "\n",
        "    for _ in range(num_samples):\n",
        "        # Step 1: Generate a sample for income and housing\n",
        "        income_sample = random.choices([0, 1], [income_prob[0], income_prob[1]])[0]\n",
        "        housing_sample = random.choices([0,1], [housing_prob[0], housing_prob[1]])[0]\n",
        "\n",
        "        # Step 2: Given the sample, generate samples for deposit, payment, security\n",
        "        deposit_sample = random.choices([0, 1], [deposit_prob[income_sample][0], deposit_prob[income_sample][1]])[0]\n",
        "        payment_sample = random.choices([0, 1], [payment_prob[(income_sample,deposit_sample)][0], payment_prob[(income_sample,deposit_sample)][1]])[0]\n",
        "        security_sample = random.choices([0, 1],[security_prob[(housing_sample,payment_sample)][0], security_prob[(housing_sample,payment_sample)][1]])[0]\n",
        "\n",
        "        # Step 3: Check if the evidence matches the observed evidence\n",
        "        if (evidence['Payment'] == payment_sample):\n",
        "\n",
        "            total_weight += payment_prob[(income_sample,deposit_sample)][payment_sample]*income_prob[income_sample]\n",
        "\n",
        "            if income_sample == 1 :\n",
        "                true_weight +=income_prob[income_sample]*payment_prob[(income_sample,deposit_sample)][payment_sample]\n",
        "\n",
        "    # Estimate the probability by dividing the valid samples by the total samples\n",
        "    probability =  true_weight / total_weight\n",
        "    return probability\n",
        "\n",
        "\n",
        "evidence = {'Payment': 0}\n",
        "\n",
        "# Perform rejection sampling with 10000 samples\n",
        "num_samples = 10000\n",
        "result = likelihood_sampling(num_samples, evidence)\n",
        "print(result)\n",
        "\n"
      ],
      "metadata": {
        "colab": {
          "base_uri": "https://localhost:8080/"
        },
        "id": "mwKqVpHjbSJ4",
        "outputId": "42f8b84c-fa2c-473b-ff9a-e276eba0c42e"
      },
      "execution_count": null,
      "outputs": [
        {
          "output_type": "stream",
          "name": "stdout",
          "text": [
            "0.1920012305799133\n"
          ]
        }
      ]
    },
    {
      "cell_type": "markdown",
      "source": [
        "##P(Housing = Tenant | low income,  No security)"
      ],
      "metadata": {
        "id": "smDl5vxwcQzC"
      }
    },
    {
      "cell_type": "code",
      "source": [
        "import random\n",
        "\n",
        "income_prob =  {0:0.7 ,  1:0.3} # 0 indicates low income , 1 indicates high income\n",
        "housing_prob = {0:0.65,  1:0.35} #0 indicates tenant and 1 indictes real_estate\n",
        "deposit_prob = {0:{0:0.4, 1:0.6} , 1:{0:0.9, 1:0.1}} # key zero indicates income, in the inner dic, 0,1 inc=dicate small deposit and large deposit\n",
        "payment_prob = {(0,0):{0:0.4 , 1:0.6} , (0,1):{0:0.55 , 1:0.45} , (1,0):{0:0.5 , 1:0.5} , (1,1):{0:0.95 , 1:0.05}} # outer key (x,y) --> (Income ,Deposit), inner dic 0,1 indicte payback, default\n",
        "security_prob = {(0,0):{0:0.69 , 1:0.31}, (0,1):{0:0.5 , 1:0.5}, (1,0):{0: 0.25, 1:0.75} , (1,1):{0:0.99 , 1:0.01}} # outer key (x,y) --> (Housing, Payment), inner dic 0,1 indicate no security, security\n",
        "\n",
        "\n",
        "\n",
        "def  likelihood_sampling(num_samples, evidence):\n",
        "    total_weight = 0\n",
        "    true_weight = 0\n",
        "\n",
        "    for _ in range(num_samples):\n",
        "        # Step 1: Generate a sample for income and housing\n",
        "        income_sample = random.choices([0, 1], [income_prob[0], income_prob[1]])[0]\n",
        "        housing_sample = random.choices([0,1], [housing_prob[0], housing_prob[1]])[0]\n",
        "\n",
        "        # Step 2: Given the sample, generate samples for deposit, payment, security\n",
        "        deposit_sample = random.choices([0, 1], [deposit_prob[income_sample][0], deposit_prob[income_sample][1]])[0]\n",
        "        payment_sample = random.choices([0, 1], [payment_prob[(income_sample,deposit_sample)][0], payment_prob[(income_sample,deposit_sample)][1]])[0]\n",
        "        security_sample = random.choices([0, 1],[security_prob[(housing_sample,payment_sample)][0], security_prob[(housing_sample,payment_sample)][1]])[0]\n",
        "\n",
        "        # Step 3: Check if the evidence matches the observed evidence\n",
        "        if (evidence['Income'] == income_sample and evidence['Security']==security_sample):\n",
        "            total_weight += income_prob[income_sample] * security_prob[(housing_sample,payment_sample)][0]*housing_prob[housing_sample]\n",
        "\n",
        "            if housing_sample == 1 :\n",
        "                true_weight += housing_prob[housing_sample]*income_prob[income_sample] * security_prob[(housing_sample,payment_sample)][0]\n",
        "\n",
        "    # Estimate the probability by dividing the valid samples by the total samples\n",
        "    probability =  true_weight / total_weight\n",
        "    return probability\n",
        "\n",
        "\n",
        "evidence = {'Income': 0, 'Security':0}\n",
        "\n",
        "# Perform rejection sampling with 10000 samples\n",
        "num_samples = 10000\n",
        "result =  likelihood_sampling(num_samples, evidence)\n",
        "print(result)\n",
        "\n"
      ],
      "metadata": {
        "colab": {
          "base_uri": "https://localhost:8080/"
        },
        "id": "NXJIm16jbyxM",
        "outputId": "ee758c95-e723-4f4b-e451-43c1c0bf8617"
      },
      "execution_count": null,
      "outputs": [
        {
          "output_type": "stream",
          "name": "stdout",
          "text": [
            "0.28950098616325814\n"
          ]
        }
      ]
    },
    {
      "cell_type": "markdown",
      "source": [
        "## P(Payment = default | Deposit = Large)"
      ],
      "metadata": {
        "id": "oEw7pz0Ac2sh"
      }
    },
    {
      "cell_type": "code",
      "source": [
        "import random\n",
        "\n",
        "income_prob =  {0:0.7 ,  1:0.3} # 0 indicates low income , 1 indicates high income\n",
        "housing_prob = {0:0.65,  1:0.35} #0 indicates tenant and 1 indictes real_estate\n",
        "deposit_prob = {0:{0:0.4, 1:0.6} , 1:{0:0.9, 1:0.1}} # key zero indicates income, in the inner dic, 0,1 inc=dicate small deposit and large deposit\n",
        "payment_prob = {(0,0):{0:0.4 , 1:0.6} , (0,1):{0:0.55 , 1:0.45} , (1,0):{0:0.5 , 1:0.5} , (1,1):{0:0.95 , 1:0.05}} # outer key (x,y) --> (Income ,Deposit), inner dic 0,1 indicte payback, default\n",
        "security_prob = {(0,0):{0:0.69 , 1:0.31}, (0,1):{0:0.5 , 1:0.5}, (1,0):{0: 0.25, 1:0.75} , (1,1):{0:0.99 , 1:0.01}} # outer key (x,y) --> (Housing, Payment), inner dic 0,1 indicate no security, security\n",
        "\n",
        "\n",
        "\n",
        "def  likelihood_sampling(num_samples, evidence):\n",
        "    total_weight = 0\n",
        "    true_weight = 0\n",
        "\n",
        "    for _ in range(num_samples):\n",
        "        # Step 1: Generate a sample for income and housing\n",
        "        income_sample = random.choices([0, 1], [income_prob[0], income_prob[1]])[0]\n",
        "        housing_sample = random.choices([0,1], [housing_prob[0], housing_prob[1]])[0]\n",
        "\n",
        "        # Step 2: Given the sample, generate samples for deposit, payment, security\n",
        "        deposit_sample = random.choices([0, 1], [deposit_prob[income_sample][0], deposit_prob[income_sample][1]])[0]\n",
        "        payment_sample = random.choices([0, 1], [payment_prob[(income_sample,deposit_sample)][0], payment_prob[(income_sample,deposit_sample)][1]])[0]\n",
        "        security_sample = random.choices([0, 1],[security_prob[(housing_sample,payment_sample)][0], security_prob[(housing_sample,payment_sample)][1]])[0]\n",
        "\n",
        "        # Step 3: Check if the evidence matches the observed evidence\n",
        "        if (evidence['Deposit'] == deposit_sample ):\n",
        "            total_weight += deposit_prob[income_sample][1]*payment_prob[(income_sample,deposit_sample)][1]\n",
        "            if payment_sample == 1 :\n",
        "                true_weight+= payment_prob[(income_sample,deposit_sample)][1]*deposit_prob[income_sample][1]\n",
        "\n",
        "    # Estimate the probability by dividing the valid samples by the total samples\n",
        "    probability =  true_weight / total_weight\n",
        "    return probability\n",
        "\n",
        "\n",
        "evidence = {'Deposit': 1}\n",
        "\n",
        "# Perform rejection sampling with 10000 samples\n",
        "num_samples = 10000\n",
        "result =  likelihood_sampling(num_samples, evidence)\n",
        "print(result)\n",
        "\n"
      ],
      "metadata": {
        "colab": {
          "base_uri": "https://localhost:8080/"
        },
        "id": "orNJBa2dcyu3",
        "outputId": "534a5a86-11cf-4a9b-d792-fd5ce52ec52f"
      },
      "execution_count": null,
      "outputs": [
        {
          "output_type": "stream",
          "name": "stdout",
          "text": [
            "0.46001084752997345\n"
          ]
        }
      ]
    },
    {
      "cell_type": "markdown",
      "source": [
        "##Rejection sampling"
      ],
      "metadata": {
        "id": "VAfBdMppdNwg"
      }
    },
    {
      "cell_type": "markdown",
      "source": [
        "### P(High Income | Payment = payback)"
      ],
      "metadata": {
        "id": "7vTB-w6NdSkD"
      }
    },
    {
      "cell_type": "code",
      "source": [
        "import random\n",
        "\n",
        "income_prob =  {0:0.7 ,  1:0.3} # 0 indicates low income , 1 indicates high income\n",
        "housing_prob = {0:0.65,  1:0.35} #0 indicates tenant and 1 indictes real_estate\n",
        "deposit_prob = {0:{0:0.4, 1:0.6} , 1:{0:0.9, 1:0.1}} # key zero indicates income, in the inner dic, 0,1 inc=dicate small deposit and large deposit\n",
        "payment_prob = {(0,0):{0:0.4 , 1:0.6} , (0,1):{0:0.55 , 1:0.45} , (1,0):{0:0.5 , 1:0.5} , (1,1):{0:0.95 , 1:0.05}} # outer key (x,y) --> (Income ,Deposit), inner dic 0,1 indicte payback, default\n",
        "security_prob = {(0,0):{0:0.69 , 1:0.31}, (0,1):{0:0.5 , 1:0.5}, (1,0):{0: 0.25, 1:0.75} , (1,1):{0:0.99 , 1:0.01}} # outer key (x,y) --> (Housing, Payment), inner dic 0,1 indicate no security, security\n",
        "\n",
        "\n",
        "\n",
        "def rejection_sampling(num_samples, evidence):\n",
        "    total_valid_samples = 0\n",
        "    numerator_true_samples = 0\n",
        "\n",
        "    for _ in range(num_samples):\n",
        "        # Step 1: Generate a sample for income and housing\n",
        "        income_sample = random.choices([0, 1], [income_prob[0], income_prob[1]])[0]\n",
        "        housing_sample = random.choices([0,1], [housing_prob[0], housing_prob[1]])[0]\n",
        "\n",
        "        # Step 2: Given the sample, generate samples for deposit, payment, security\n",
        "        deposit_sample = random.choices([0, 1], [deposit_prob[income_sample][0], deposit_prob[income_sample][1]])[0]\n",
        "        payment_sample = random.choices([0, 1], [payment_prob[(income_sample,deposit_sample)][0], payment_prob[(income_sample,deposit_sample)][1]])[0]\n",
        "        security_sample = random.choices([0, 1],[security_prob[(housing_sample,payment_sample)][0], security_prob[(housing_sample,payment_sample)][1]])[0]\n",
        "\n",
        "        # Step 3: Check if the evidence matches the observed evidence\n",
        "        if (evidence['Payment'] == payment_sample):\n",
        "            total_valid_samples += 1\n",
        "            if income_sample == 1 :\n",
        "                numerator_true_samples+=1\n",
        "\n",
        "    # Estimate the probability by dividing the valid samples by the total samples\n",
        "    probability =  numerator_true_samples / total_valid_samples\n",
        "    return probability\n",
        "\n",
        "\n",
        "evidence = {'Payment': 0}\n",
        "\n",
        "# Perform rejection sampling with 10000 samples\n",
        "num_samples = 10000\n",
        "result = rejection_sampling(num_samples, evidence)\n",
        "print(result)\n",
        "\n"
      ],
      "metadata": {
        "colab": {
          "base_uri": "https://localhost:8080/"
        },
        "id": "Q2Zh0B9ndLQ5",
        "outputId": "9b74f951-9cbd-4bae-ba72-b0bd53c06e63"
      },
      "execution_count": null,
      "outputs": [
        {
          "output_type": "stream",
          "name": "stdout",
          "text": [
            "0.3300434267666798\n"
          ]
        }
      ]
    },
    {
      "cell_type": "markdown",
      "source": [
        "###P(Housing = Tenant | low income,  No security)"
      ],
      "metadata": {
        "id": "AKKpRwrXeHvx"
      }
    },
    {
      "cell_type": "code",
      "source": [
        "import random\n",
        "\n",
        "income_prob =  {0:0.7 ,  1:0.3} # 0 indicates low income , 1 indicates high income\n",
        "housing_prob = {0:0.65,  1:0.35} #0 indicates tenant and 1 indictes real_estate\n",
        "deposit_prob = {0:{0:0.4, 1:0.6} , 1:{0:0.9, 1:0.1}} # key zero indicates income, in the inner dic, 0,1 inc=dicate small deposit and large deposit\n",
        "payment_prob = {(0,0):{0:0.4 , 1:0.6} , (0,1):{0:0.55 , 1:0.45} , (1,0):{0:0.5 , 1:0.5} , (1,1):{0:0.95 , 1:0.05}} # outer key (x,y) --> (Income ,Deposit), inner dic 0,1 indicte payback, default\n",
        "security_prob = {(0,0):{0:0.69 , 1:0.31}, (0,1):{0:0.5 , 1:0.5}, (1,0):{0: 0.25, 1:0.75} , (1,1):{0:0.99 , 1:0.01}} # outer key (x,y) --> (Housing, Payment), inner dic 0,1 indicate no security, security\n",
        "\n",
        "\n",
        "\n",
        "def rejection_sampling(num_samples, evidence):\n",
        "    total_valid_samples = 0\n",
        "    numerator_true_samples = 0\n",
        "\n",
        "    for _ in range(num_samples):\n",
        "        # Step 1: Generate a sample for income and housing\n",
        "        income_sample = random.choices([0, 1], [income_prob[0], income_prob[1]])[0]\n",
        "        housing_sample = random.choices([0,1], [housing_prob[0], housing_prob[1]])[0]\n",
        "\n",
        "        # Step 2: Given the sample, generate samples for deposit, payment, security\n",
        "        deposit_sample = random.choices([0, 1], [deposit_prob[income_sample][0], deposit_prob[income_sample][1]])[0]\n",
        "        payment_sample = random.choices([0, 1], [payment_prob[(income_sample,deposit_sample)][0], payment_prob[(income_sample,deposit_sample)][1]])[0]\n",
        "        security_sample = random.choices([0, 1],[security_prob[(housing_sample,payment_sample)][0], security_prob[(housing_sample,payment_sample)][1]])[0]\n",
        "\n",
        "        # Step 3: Check if the evidence matches the observed evidence\n",
        "        if (evidence['Income'] == income_sample and evidence['Security']==security_sample):\n",
        "            total_valid_samples += 1\n",
        "            if housing_sample == 1 :\n",
        "                numerator_true_samples+=1\n",
        "\n",
        "    # Estimate the probability by dividing the valid samples by the total samples\n",
        "    probability =  numerator_true_samples / total_valid_samples\n",
        "    return probability\n",
        "\n",
        "\n",
        "evidence = {'Income': 0, 'Security':0}\n",
        "\n",
        "# Perform rejection sampling with 10000 samples\n",
        "num_samples = 10000\n",
        "result = rejection_sampling(num_samples, evidence)\n",
        "print(result)\n",
        "\n"
      ],
      "metadata": {
        "colab": {
          "base_uri": "https://localhost:8080/"
        },
        "id": "rmH9SDxreCBT",
        "outputId": "065524fd-2921-435d-bb49-044aa9d9a727"
      },
      "execution_count": null,
      "outputs": [
        {
          "output_type": "stream",
          "name": "stdout",
          "text": [
            "0.364021662349894\n"
          ]
        }
      ]
    },
    {
      "cell_type": "markdown",
      "source": [
        "###P(Payment = default | Deposit = Large)"
      ],
      "metadata": {
        "id": "sZgufxSMeQYb"
      }
    },
    {
      "cell_type": "code",
      "source": [
        "import random\n",
        "\n",
        "income_prob =  {0:0.7 ,  1:0.3} # 0 indicates low income , 1 indicates high income\n",
        "housing_prob = {0:0.65,  1:0.35} #0 indicates tenant and 1 indictes real_estate\n",
        "deposit_prob = {0:{0:0.4, 1:0.6} , 1:{0:0.9, 1:0.1}} # key zero indicates income, in the inner dic, 0,1 inc=dicate small deposit and large deposit\n",
        "payment_prob = {(0,0):{0:0.4 , 1:0.6} , (0,1):{0:0.55 , 1:0.45} , (1,0):{0:0.5 , 1:0.5} , (1,1):{0:0.95 , 1:0.05}} # outer key (x,y) --> (Income ,Deposit), inner dic 0,1 indicte payback, default\n",
        "security_prob = {(0,0):{0:0.69 , 1:0.31}, (0,1):{0:0.5 , 1:0.5}, (1,0):{0: 0.25, 1:0.75} , (1,1):{0:0.99 , 1:0.01}} # outer key (x,y) --> (Housing, Payment), inner dic 0,1 indicate no security, security\n",
        "\n",
        "\n",
        "\n",
        "def rejection_sampling(num_samples, evidence):\n",
        "    total_valid_samples = 0\n",
        "    numerator_true_samples = 0\n",
        "\n",
        "    for _ in range(num_samples):\n",
        "        # Step 1: Generate a sample for income and housing\n",
        "        income_sample = random.choices([0, 1], [income_prob[0], income_prob[1]])[0]\n",
        "        housing_sample = random.choices([0,1], [housing_prob[0], housing_prob[1]])[0]\n",
        "\n",
        "        # Step 2: Given the sample, generate samples for deposit, payment, security\n",
        "        deposit_sample = random.choices([0, 1], [deposit_prob[income_sample][0], deposit_prob[income_sample][1]])[0]\n",
        "        payment_sample = random.choices([0, 1], [payment_prob[(income_sample,deposit_sample)][0], payment_prob[(income_sample,deposit_sample)][1]])[0]\n",
        "        security_sample = random.choices([0, 1],[security_prob[(housing_sample,payment_sample)][0], security_prob[(housing_sample,payment_sample)][1]])[0]\n",
        "\n",
        "        # Step 3: Check if the evidence matches the observed evidence\n",
        "        if (evidence['Deposit'] == deposit_sample ):\n",
        "            total_valid_samples += 1\n",
        "            if payment_sample == 1 :\n",
        "                numerator_true_samples+=1\n",
        "\n",
        "    # Estimate the probability by dividing the valid samples by the total samples\n",
        "    probability =  numerator_true_samples / total_valid_samples\n",
        "    return probability\n",
        "\n",
        "\n",
        "evidence = {'Deposit': 1}\n",
        "\n",
        "# Perform rejection sampling with 10000 samples\n",
        "num_samples = 10000\n",
        "result = rejection_sampling(num_samples, evidence)\n",
        "print(result)\n",
        "\n"
      ],
      "metadata": {
        "colab": {
          "base_uri": "https://localhost:8080/"
        },
        "id": "RGpamxHveGgl",
        "outputId": "01b2be5d-f0d2-44cd-8268-0da3fe5081ac"
      },
      "execution_count": null,
      "outputs": [
        {
          "output_type": "stream",
          "name": "stdout",
          "text": [
            "0.41839762611275966\n"
          ]
        }
      ]
    }
  ]
}