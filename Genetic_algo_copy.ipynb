{
  "nbformat": 4,
  "nbformat_minor": 0,
  "metadata": {
    "colab": {
      "provenance": []
    },
    "kernelspec": {
      "name": "python3",
      "display_name": "Python 3"
    },
    "language_info": {
      "name": "python"
    }
  },
  "cells": [
    {
      "cell_type": "markdown",
      "source": [
        "Implement local search techniques such as Genetic algorithm to solve the 8-queens problem."
      ],
      "metadata": {
        "id": "FA226Mejt6mB"
      }
    },
    {
      "cell_type": "markdown",
      "source": [
        "Importing all the required modules"
      ],
      "metadata": {
        "id": "f42W-28TuFoz"
      }
    },
    {
      "cell_type": "code",
      "source": [
        "import random\n",
        "import time"
      ],
      "metadata": {
        "id": "ikKlkm4muOgI"
      },
      "execution_count": null,
      "outputs": []
    },
    {
      "cell_type": "markdown",
      "source": [
        "function to create an random initial states of count size where the index are assumed to be the rows of the 8-queens problems and the values at that particular index are their respective columns"
      ],
      "metadata": {
        "id": "byRkfc1uulcG"
      }
    },
    {
      "cell_type": "code",
      "source": [
        "def initial_pop(size):\n",
        "    return [[random.randint(0,7) for i in range(0,8)] for j in range(size)]\n"
      ],
      "metadata": {
        "id": "G3zqhTgkuzGZ"
      },
      "execution_count": null,
      "outputs": []
    },
    {
      "cell_type": "markdown",
      "source": [
        "calculates the no of attacking pairs of attacking queens"
      ],
      "metadata": {
        "id": "gBzQxXQvu39G"
      }
    },
    {
      "cell_type": "code",
      "source": [
        "def negitive_fitness(state):\n",
        "    conflict=0\n",
        "    for i in range(8):\n",
        "        for j in range(i+1,8):\n",
        "            if state[i]==state[j] or i-j==state[i]-state[j]:\n",
        "                conflict+=1\n",
        "    return conflict"
      ],
      "metadata": {
        "id": "Z_FmBbfsvJCH"
      },
      "execution_count": null,
      "outputs": []
    },
    {
      "cell_type": "markdown",
      "source": [
        "gives two new genitic states by slicing the two parent states"
      ],
      "metadata": {
        "id": "x9I2o9M9vSK-"
      }
    },
    {
      "cell_type": "code",
      "source": [
        "def crossover(state1,state2):\n",
        "    divider=random.randint(1,7)\n",
        "    child1=state1[:divider]+state2[divider:]\n",
        "    child2=state2[:divider]+state1[divider:]\n",
        "    return child1,child2"
      ],
      "metadata": {
        "id": "GYcdI11ivdjJ"
      },
      "execution_count": null,
      "outputs": []
    },
    {
      "cell_type": "markdown",
      "source": [
        "function gives the new node by changing the position of a queen of an random row to an any random column"
      ],
      "metadata": {
        "id": "4umJX4hpvkQp"
      }
    },
    {
      "cell_type": "code",
      "source": [
        "def mutate(state):\n",
        "    row = random.randint(0, 7)\n",
        "    new_column = random.randint(0, 7)\n",
        "\n",
        "    # Create a copy of the current state and update it\n",
        "    new_state = state[:]\n",
        "    new_state[row] = new_column\n",
        "\n",
        "    return new_state\n"
      ],
      "metadata": {
        "id": "O6r8yIDLvr6e"
      },
      "execution_count": null,
      "outputs": []
    },
    {
      "cell_type": "markdown",
      "source": [
        "print the particular state"
      ],
      "metadata": {
        "id": "QocinbXPvxQI"
      }
    },
    {
      "cell_type": "code",
      "source": [
        "def print_8queens(state):\n",
        "        for i in range(len(state)):\n",
        "            for j in range(len(state)):\n",
        "                if(state[i]==j):\n",
        "                    print(\" Q \",end=\"\")\n",
        "                else:\n",
        "                    print(\" _ \",end=\"\")\n",
        "            print(\"\\n\")\n"
      ],
      "metadata": {
        "id": "trJypu3yv1rq"
      },
      "execution_count": null,
      "outputs": []
    },
    {
      "cell_type": "markdown",
      "source": [
        "for a given inital population,sort the population and crossover the 2 states and mutate them to generate a new state untill negitive fitness is zero"
      ],
      "metadata": {
        "id": "vL09eA6xv8Ji"
      }
    },
    {
      "cell_type": "code",
      "source": [
        "def genetic_algo(noOfgenerations,size):\n",
        "    pop=initial_pop(size)\n",
        "    for j in range(0,noOfgenerations):\n",
        "        pop=sorted(pop,key=lambda x: negitive_fitness(x))\n",
        "\n",
        "        new_pop=[]\n",
        "        for i in range(0,size,2):\n",
        "\n",
        "            if(negitive_fitness(pop[i])==0):\n",
        "                  print(\"0\")\n",
        "                  print_8queens(pop[i])\n",
        "                  return pop[i]\n",
        "\n",
        "            if(negitive_fitness(pop[i+1])==0):\n",
        "                  print(\"1\")\n",
        "                  print_8queens(pop[i+1])\n",
        "                  return pop[i+1]\n",
        "            state1=pop[i]\n",
        "            state2=pop[i+1]\n",
        "            child1,child2=crossover(state1,state2)\n",
        "            chlid1=mutate(child1)\n",
        "            new_pop.append(child1)\n",
        "            child2=mutate(child2)\n",
        "            new_pop.append(child2)\n",
        "\n",
        "        pop=new_pop\n",
        "    return print_8queens(min(pop,key=lambda x: negitive_fitness(x)))"
      ],
      "metadata": {
        "id": "DMLVi8NlwDw4"
      },
      "execution_count": null,
      "outputs": []
    },
    {
      "cell_type": "markdown",
      "source": [
        "calling the function"
      ],
      "metadata": {
        "id": "cnOhE-jWxMEV"
      }
    },
    {
      "cell_type": "code",
      "source": [
        "print(genetic_algo(1000,100))"
      ],
      "metadata": {
        "id": "pkY22A3Swrdw",
        "colab": {
          "base_uri": "https://localhost:8080/"
        },
        "outputId": "99aae014-d3b6-4959-c405-79f1985d4795"
      },
      "execution_count": null,
      "outputs": [
        {
          "output_type": "stream",
          "name": "stdout",
          "text": [
            "0\n",
            " _  Q  _  _  _  _  _  _ \n",
            "\n",
            " _  _  _  _  Q  _  _  _ \n",
            "\n",
            " _  _  _  _  _  _  _  Q \n",
            "\n",
            " _  _  Q  _  _  _  _  _ \n",
            "\n",
            " _  _  _  _  _  _  Q  _ \n",
            "\n",
            " _  _  _  _  _  Q  _  _ \n",
            "\n",
            " Q  _  _  _  _  _  _  _ \n",
            "\n",
            " _  _  _  Q  _  _  _  _ \n",
            "\n",
            "[1, 4, 7, 2, 6, 5, 0, 3]\n"
          ]
        }
      ]
    },
    {
      "cell_type": "markdown",
      "source": [
        "for the given times 5 and 10 seconds"
      ],
      "metadata": {
        "id": "wqm1ESrUDVHW"
      }
    },
    {
      "cell_type": "code",
      "source": [
        "def genetic_alg(noOfgenerations,size,duration):\n",
        "    inital_time=time.time()\n",
        "    pop=initial_pop(size)\n",
        "    for j in range(0,noOfgenerations):\n",
        "        pop=sorted(pop,key=lambda x: negitive_fitness(x))\n",
        "\n",
        "        new_pop=[]\n",
        "\n",
        "        for i in range(0,size,2):\n",
        "\n",
        "            '''if(negitive_fitness(pop[i])==0):\n",
        "                  print(\"0\")\n",
        "                  print_8queens(pop[i])\n",
        "                  return pop[i]'''\n",
        "            if(time.time()-inital_time>=duration):\n",
        "                print(\"time taken==\",duration)\n",
        "                return print_8queens(min(pop,key=lambda x: negitive_fitness(x)))\n",
        "\n",
        "            if(negitive_fitness(pop[i+1])==0):\n",
        "                  print(\"1\")\n",
        "                  print_8queens(pop[i+1])\n",
        "                  return pop[i+1]\n",
        "            state1=pop[i]\n",
        "            state2=pop[i+1]\n",
        "            child1,child2=crossover(state1,state2)\n",
        "            chlid1=mutate(child1)\n",
        "            new_pop.append(child1)\n",
        "            child2=mutate(child2)\n",
        "            new_pop.append(child2)\n",
        "\n",
        "        pop=new_pop\n",
        "    print(time.time()-inital_time)\n",
        "    return print_8queens(min(pop,key=lambda x: negitive_fitness(x)))\n",
        "\n",
        "print(genetic_alg(100000,10,5))"
      ],
      "metadata": {
        "colab": {
          "base_uri": "https://localhost:8080/"
        },
        "id": "mWb3CCfWDYBE",
        "outputId": "4389e3b8-4752-4671-f49d-73740b7075b2"
      },
      "execution_count": null,
      "outputs": [
        {
          "output_type": "stream",
          "name": "stdout",
          "text": [
            "time taken== 5\n",
            " _  _  _  _  _  _  _  Q \n",
            "\n",
            " _  _  _  _  _  Q  _  _ \n",
            "\n",
            " _  _  _  _  _  _  _  Q \n",
            "\n",
            " _  _  _  _  _  _  Q  _ \n",
            "\n",
            " _  _  _  Q  _  _  _  _ \n",
            "\n",
            " _  Q  _  _  _  _  _  _ \n",
            "\n",
            " Q  _  _  _  _  _  _  _ \n",
            "\n",
            " _  _  _  _  _  Q  _  _ \n",
            "\n",
            "None\n"
          ]
        }
      ]
    },
    {
      "cell_type": "code",
      "source": [
        "print(genetic_alg(100000,10,10))"
      ],
      "metadata": {
        "colab": {
          "base_uri": "https://localhost:8080/"
        },
        "id": "nrRNzR_MD4wK",
        "outputId": "fb94d10a-800f-42f1-afd5-7a4e410aee1c"
      },
      "execution_count": null,
      "outputs": [
        {
          "output_type": "stream",
          "name": "stdout",
          "text": [
            "time taken== 10\n",
            " _  _  _  Q  _  _  _  _ \n",
            "\n",
            " _  _  _  _  _  Q  _  _ \n",
            "\n",
            " _  _  _  _  _  _  _  Q \n",
            "\n",
            " _  _  _  _  _  _  Q  _ \n",
            "\n",
            " _  Q  _  _  _  _  _  _ \n",
            "\n",
            " _  Q  _  _  _  _  _  _ \n",
            "\n",
            " Q  _  _  _  _  _  _  _ \n",
            "\n",
            " _  _  Q  _  _  _  _  _ \n",
            "\n",
            "None\n"
          ]
        }
      ]
    }
  ]
}