{
  "nbformat": 4,
  "nbformat_minor": 0,
  "metadata": {
    "colab": {
      "provenance": []
    },
    "kernelspec": {
      "name": "python3",
      "display_name": "Python 3"
    },
    "language_info": {
      "name": "python"
    }
  },
  "cells": [
    {
      "cell_type": "markdown",
      "source": [
        "## Implement Tic-Tac-Toe Game (3*3 board)\n",
        "The game is played by two individuals. First, we draw a board with a 3×3 square grid.\n",
        "The first player chooses ‘X’ and draws it on any of the square grid, then it’s the chance of\n",
        "the second player to draw ‘O’ on the available spaces. Like this, the players draw ‘X’ and\n",
        "‘O’ alternatively on the empty spaces until a player succeeds in drawing 3 consecutive\n",
        "marks either in the horizontal, vertical or diagonal way. Then the player wins the game\n",
        "otherwise the game draws when all spots are filled.\n",
        "Player 1: Computer (Symbol: X)\n",
        "Player 2: Human (Symbol: O)\n",
        "Print the board after each move.\n",
        "Evaluate the board after each move to check whether a row or column or a diagonal has\n",
        "the same player symbol (X or O). If so, display the winner's name. If after 9 moves, there\n",
        "is no winner then display -1.\n",
        "Note: The first move should be initiated by the computer."
      ],
      "metadata": {
        "id": "mbuvvXOiXteF"
      }
    },
    {
      "cell_type": "markdown",
      "source": [
        "###import modules"
      ],
      "metadata": {
        "id": "ZeYfHzdnZtql"
      }
    },
    {
      "cell_type": "code",
      "execution_count": null,
      "metadata": {
        "id": "PKG6sPTIXrPA"
      },
      "outputs": [],
      "source": [
        "import sys\n",
        "import time\n"
      ]
    },
    {
      "cell_type": "markdown",
      "source": [
        "###defining total_time variable to calculate time"
      ],
      "metadata": {
        "id": "TO2RdatPaCWV"
      }
    },
    {
      "cell_type": "code",
      "source": [
        "total_time=0\n",
        "\n",
        "# Define player and opponent\n",
        "player, opponent = 'x', 'o'\n"
      ],
      "metadata": {
        "id": "0MGgW9E5Z2mF"
      },
      "execution_count": null,
      "outputs": []
    },
    {
      "cell_type": "markdown",
      "source": [
        "###Function to check if there are any moves left"
      ],
      "metadata": {
        "id": "E--HyiI1aVOP"
      }
    },
    {
      "cell_type": "code",
      "source": [
        "def isMovesLeft(board):\n",
        "    for i in range(3):\n",
        "        for j in range(3):\n",
        "            if (board[i][j] == '_'):\n",
        "                return True\n",
        "    return False"
      ],
      "metadata": {
        "id": "qGB77vOfZ_kQ"
      },
      "execution_count": null,
      "outputs": []
    },
    {
      "cell_type": "markdown",
      "source": [
        "###Function to print the Tic-Tac-Toe *board*"
      ],
      "metadata": {
        "id": "mc_h8_Nlagdi"
      }
    },
    {
      "cell_type": "code",
      "source": [
        "def print_board(board):\n",
        "    for row in board:\n",
        "        print(\" | \".join(row))\n"
      ],
      "metadata": {
        "id": "UO0tAPVeaTtx"
      },
      "execution_count": null,
      "outputs": []
    },
    {
      "cell_type": "markdown",
      "source": [
        "### Function to evaluate the current state of the board"
      ],
      "metadata": {
        "id": "hJB9jbevayj6"
      }
    },
    {
      "cell_type": "code",
      "source": [
        "def evaluate(b):\n",
        "    # Checking each row whether player or opponent won\n",
        "    for row in range(3):\n",
        "        if (b[row][0] == b[row][1] and b[row][1] == b[row][2]):\n",
        "            if (b[row][0] == player):\n",
        "                return 10\n",
        "            elif (b[row][0] == opponent):\n",
        "                return -10\n",
        "    # Checking each column whether player or opponent won\n",
        "    for col in range(3):\n",
        "        if (b[0][col] == b[1][col] and b[1][col] == b[2][col]):\n",
        "            if (b[0][col] == player):\n",
        "                return 10\n",
        "            elif (b[0][col] == opponent):\n",
        "                return -10\n",
        "    # Checking both diagonals whether player or opponent won\n",
        "    if (b[0][0] == b[1][1] and b[1][1] == b[2][2]):\n",
        "        if (b[0][0] == player):\n",
        "            return 10\n",
        "        elif (b[0][0] == opponent):\n",
        "            return -10\n",
        "    if (b[0][2] == b[1][1] and b[1][1] == b[2][0]):\n",
        "        if (b[0][2] == player):\n",
        "            return 10\n",
        "        elif (b[0][2] == opponent):\n",
        "            return -10\n",
        "    return 0"
      ],
      "metadata": {
        "id": "5Ajr-1P7axc_"
      },
      "execution_count": null,
      "outputs": []
    },
    {
      "cell_type": "markdown",
      "source": [
        "###Function to check if there's a winner"
      ],
      "metadata": {
        "id": "PtlYxYqrbB0a"
      }
    },
    {
      "cell_type": "code",
      "source": [
        "def check_winner(board):\n",
        "    # Check rows\n",
        "    for row in board:\n",
        "        if all(cell == \"x\" for cell in row):\n",
        "            return True\n",
        "    # Check columns\n",
        "    for col in range(3):\n",
        "        if all(board[row][col] == \"x\" for row in range(3)):\n",
        "            return True\n",
        "    # Check diagonals\n",
        "    if all(board[i][i] == \"x\" for i in range(3)) or all(board[i][2 - i] == \"x\" for i in range(3)):\n",
        "        return True\n",
        "    return False"
      ],
      "metadata": {
        "id": "en91Ejdza_JC"
      },
      "execution_count": null,
      "outputs": []
    },
    {
      "cell_type": "markdown",
      "source": [
        "##a) Minimax search (4M)"
      ],
      "metadata": {
        "id": "vQGiaGzidyiU"
      }
    },
    {
      "cell_type": "code",
      "source": [
        "\n",
        "# Function to max\n",
        "def maximize(board):\n",
        "\n",
        "    score = evaluate(board)\n",
        "    if (score == 10):\n",
        "        return score\n",
        "    if (score == -10):\n",
        "        return score\n",
        "    if (isMovesLeft(board) == False):\n",
        "        return 0\n",
        "    best = -1000\n",
        "    for i in range(3):\n",
        "        for j in range(3):\n",
        "            if (board[i][j] == '_'):\n",
        "                board[i][j] = player\n",
        "                best = max(best, minimize(board))\n",
        "                board[i][j] = '_'\n",
        "    return best\n",
        "\n",
        "# Function to min\n",
        "def minimize(board):\n",
        "\n",
        "    score = evaluate(board)\n",
        "    if (score == 10):\n",
        "        return score\n",
        "    if (score == -10):\n",
        "        return score\n",
        "    if (isMovesLeft(board) == False):\n",
        "        return 0\n",
        "    best = 1000\n",
        "    for i in range(3):\n",
        "        for j in range(3):\n",
        "            if (board[i][j] == '_'):\n",
        "                board[i][j] = opponent\n",
        "                best = min(best, maximize(board))\n",
        "                board[i][j] = '_'\n",
        "    return best\n",
        "\n",
        "# Function to implement the minimax algorithm\n",
        "def minimax(board):\n",
        "    return minimize(board)\n",
        "\n",
        "# Function to find the best move for the computer\n",
        "def findBestMove(board):\n",
        "    bestVal = -1000\n",
        "    bestMove = (-1, -1)\n",
        "    for i in range(3):\n",
        "        for j in range(3):\n",
        "            if (board[i][j] == '_'):\n",
        "                board[i][j] = player\n",
        "                moveVal = minimax(board)\n",
        "                board[i][j] = '_'\n",
        "                if (moveVal > bestVal):\n",
        "                    bestMove = (i, j)\n",
        "                    bestVal = moveVal\n",
        "    return bestMove\n",
        "def tic_tac_game(board, whose_turn):\n",
        "    global total_time\n",
        "    if check_winner(board):\n",
        "        print()\n",
        "        print(\"Computer Wins=1\")\n",
        "        return\n",
        "    if isMovesLeft(board) == 0:\n",
        "        print()\n",
        "        print(\"Draw=0\")\n",
        "        return\n",
        "    if whose_turn == \"user\":\n",
        "        row = int(input(\"Enter the row (0, 1, or 2): \"))\n",
        "        col = int(input(\"Enter the column (0, 1, or 2): \"))\n",
        "        print()\n",
        "        board[row][col] = \"o\"\n",
        "        print_board(board)\n",
        "        print()\n",
        "        return tic_tac_game(board, \"comp\")\n",
        "    if whose_turn == \"comp\":\n",
        "        initial_time=time.time()\n",
        "        x, y = findBestMove(board)\n",
        "        board[x][y] = \"x\"\n",
        "        print_board(board)\n",
        "        print()\n",
        "        total_time=total_time+time.time()-initial_time\n",
        "        return tic_tac_game(board, \"user\")\n",
        "\n",
        "\n",
        "board = [\n",
        "    ['_', '_', '_'],\n",
        "    ['_', '_', '_'],\n",
        "    ['_', '_', '_']\n",
        "]\n",
        "\n",
        "print_board(board)\n",
        "\n",
        "initial_time=time.time()\n",
        "tic_tac_game(board, \"comp\")\n",
        "print(\"total time==\",total_time)\n"
      ],
      "metadata": {
        "colab": {
          "base_uri": "https://localhost:8080/"
        },
        "id": "gxJ_Hnw0bAod",
        "outputId": "4ad4c2f6-f962-42fa-fa35-dfa4a572829b"
      },
      "execution_count": null,
      "outputs": [
        {
          "output_type": "stream",
          "name": "stdout",
          "text": [
            "_ | _ | _\n",
            "_ | _ | _\n",
            "_ | _ | _\n",
            "x | _ | _\n",
            "_ | _ | _\n",
            "_ | _ | _\n",
            "\n",
            "Enter the row (0, 1, or 2): 1\n",
            "Enter the column (0, 1, or 2): 1\n",
            "\n",
            "x | _ | _\n",
            "_ | o | _\n",
            "_ | _ | _\n",
            "\n",
            "x | x | _\n",
            "_ | o | _\n",
            "_ | _ | _\n",
            "\n",
            "Enter the row (0, 1, or 2): 0\n",
            "Enter the column (0, 1, or 2): 2\n",
            "\n",
            "x | x | o\n",
            "_ | o | _\n",
            "_ | _ | _\n",
            "\n",
            "x | x | o\n",
            "_ | o | _\n",
            "x | _ | _\n",
            "\n",
            "Enter the row (0, 1, or 2): 1\n",
            "Enter the column (0, 1, or 2): 0\n",
            "\n",
            "x | x | o\n",
            "o | o | _\n",
            "x | _ | _\n",
            "\n",
            "x | x | o\n",
            "o | o | x\n",
            "x | _ | _\n",
            "\n",
            "Enter the row (0, 1, or 2): 2\n",
            "Enter the column (0, 1, or 2): 2\n",
            "\n",
            "x | x | o\n",
            "o | o | x\n",
            "x | _ | o\n",
            "\n",
            "x | x | o\n",
            "o | o | x\n",
            "x | x | o\n",
            "\n",
            "\n",
            "Draw=0\n",
            "total time== 2.1170034408569336\n"
          ]
        }
      ]
    },
    {
      "cell_type": "markdown",
      "source": [
        "##b) Alpha-Beta pruning (4M)1"
      ],
      "metadata": {
        "id": "GTXdmZ43d7SY"
      }
    },
    {
      "cell_type": "code",
      "source": [
        "total_time=0\n"
      ],
      "metadata": {
        "id": "Nt1E9yRof_cS"
      },
      "execution_count": null,
      "outputs": []
    },
    {
      "cell_type": "code",
      "source": [
        "\n",
        "\n",
        "# Function to max\n",
        "def maximize(board, alpha, beta):\n",
        "\n",
        "    score = evaluate(board)\n",
        "    if (score == 10):\n",
        "        return score\n",
        "    if (score == -10):\n",
        "        return score\n",
        "    if (not isMovesLeft(board)):\n",
        "        return 0\n",
        "    best = -sys.maxsize - 1\n",
        "    for i in range(3):\n",
        "        for j in range(3):\n",
        "            if (board[i][j] == '_'):\n",
        "                board[i][j] = player\n",
        "                best = max(best, minimize(board, alpha, beta))\n",
        "                board[i][j] = '_'\n",
        "                alpha = max(alpha, best)\n",
        "                if alpha >= beta:\n",
        "                    return best\n",
        "    return best\n",
        "\n",
        "# Function to min\n",
        "def minimize(board, alpha, beta):\n",
        "\n",
        "    score = evaluate(board)\n",
        "    if (score == 10):\n",
        "        return score\n",
        "    if (score == -10):\n",
        "        return score\n",
        "    if (not isMovesLeft(board)):\n",
        "        return 0\n",
        "    best = sys.maxsize\n",
        "    for i in range(3):\n",
        "        for j in range(3):\n",
        "            if (board[i][j] == '_'):\n",
        "                board[i][j] = opponent\n",
        "                best = min(best, maximize(board, alpha, beta))\n",
        "                board[i][j] = '_'\n",
        "                beta = min(beta, best)\n",
        "                if alpha >= beta:\n",
        "                    return best\n",
        "    return best\n",
        "\n",
        "# Function to implement the minimax algorithm\n",
        "def minimax(board):\n",
        "    alpha = -sys.maxsize - 1\n",
        "    beta = sys.maxsize\n",
        "    return minimize(board, alpha, beta)\n",
        "\n",
        "# Function to find the best move for the computer\n",
        "def findBestMove(board):\n",
        "    bestVal = -sys.maxsize - 1\n",
        "    bestMove = (-1, -1)\n",
        "    for i in range(3):\n",
        "        for j in range(3):\n",
        "            if (board[i][j] == '_'):\n",
        "                board[i][j] = player\n",
        "                moveVal = minimax(board)\n",
        "                board[i][j] = '_'\n",
        "                if (moveVal > bestVal):\n",
        "                    bestMove = (i, j)\n",
        "                    bestVal = moveVal\n",
        "    return bestMove\n",
        "\n",
        "def tic_tac_game(board, whose_turn):\n",
        "    global total_time\n",
        "    if check_winner(board):\n",
        "        print()\n",
        "        print(\"Computer Wins\")\n",
        "        return\n",
        "    if isMovesLeft(board) == 0:\n",
        "        print()\n",
        "        print(\"Draw\")\n",
        "        return\n",
        "    if whose_turn == \"user\":\n",
        "        row = int(input(\"Enter the row (0, 1, or 2): \"))\n",
        "        col = int(input(\"Enter the column (0, 1, or 2): \"))\n",
        "        print()\n",
        "        board[row][col] = \"o\"\n",
        "        print_board(board)\n",
        "        print()\n",
        "        return tic_tac_game(board, \"comp\")\n",
        "    if whose_turn == \"comp\":\n",
        "        initial_time=time.time()\n",
        "        x, y = findBestMove(board)\n",
        "        board[x][y] = \"x\"\n",
        "        print_board(board)\n",
        "        print()\n",
        "        total_time=total_time+time.time()-initial_time\n",
        "        return tic_tac_game(board, \"user\")\n",
        "\n",
        "\n",
        "board = [\n",
        "    ['_', '_', '_'],\n",
        "    ['_', '_', '_'],\n",
        "    ['_', '_', '_']\n",
        "]\n",
        "\n",
        "print_board(board)\n",
        "\n",
        "tic_tac_game(board, \"comp\")\n",
        "print(\"total time==\",total_time)\n"
      ],
      "metadata": {
        "colab": {
          "base_uri": "https://localhost:8080/"
        },
        "id": "C5qSaBCidgWC",
        "outputId": "8904ed09-54eb-4e35-e151-62454a84916f"
      },
      "execution_count": null,
      "outputs": [
        {
          "output_type": "stream",
          "name": "stdout",
          "text": [
            "_ | _ | _\n",
            "_ | _ | _\n",
            "_ | _ | _\n",
            "x | _ | _\n",
            "_ | _ | _\n",
            "_ | _ | _\n",
            "\n",
            "Enter the row (0, 1, or 2): 1\n",
            "Enter the column (0, 1, or 2): 1\n",
            "\n",
            "x | _ | _\n",
            "_ | o | _\n",
            "_ | _ | _\n",
            "\n",
            "x | x | _\n",
            "_ | o | _\n",
            "_ | _ | _\n",
            "\n",
            "Enter the row (0, 1, or 2): 0\n",
            "Enter the column (0, 1, or 2): 2\n",
            "\n",
            "x | x | o\n",
            "_ | o | _\n",
            "_ | _ | _\n",
            "\n",
            "x | x | o\n",
            "_ | o | _\n",
            "x | _ | _\n",
            "\n",
            "Enter the row (0, 1, or 2): 1\n",
            "Enter the column (0, 1, or 2): 0\n",
            "\n",
            "x | x | o\n",
            "o | o | _\n",
            "x | _ | _\n",
            "\n",
            "x | x | o\n",
            "o | o | x\n",
            "x | _ | _\n",
            "\n",
            "Enter the row (0, 1, or 2): 2\n",
            "Enter the column (0, 1, or 2): 2\n",
            "\n",
            "x | x | o\n",
            "o | o | x\n",
            "x | _ | o\n",
            "\n",
            "x | x | o\n",
            "o | o | x\n",
            "x | x | o\n",
            "\n",
            "\n",
            "Draw\n",
            "total time== 0.11598587036132812\n"
          ]
        }
      ]
    },
    {
      "cell_type": "markdown",
      "source": [
        "##c) How much improvement in speed and space is observed by the Alpha-Beta pruning\n",
        "##over Minimax search?\n"
      ],
      "metadata": {
        "id": "gzoxvvhZlV8x"
      }
    },
    {
      "cell_type": "markdown",
      "source": [
        "###sol: Alpha-beta pruning can significantly reduce the number of nodes that need to be evaluated, leading to faster search times compared to a straightforward minimax search.alpha-beta pruning enhances the minimax algorithm by eliminating unnecessary branches in the game tree, making it more efficient and capable of searching deeper within the same time frame.In the code time of Alpha-beta is less than minimax which tells that Alpha-beta increases the speed of finding the position of the nodes."
      ],
      "metadata": {
        "id": "yhplTP6Rl5IT"
      }
    },
    {
      "cell_type": "markdown",
      "source": [
        "\n",
        "###Alpha-beta pruning and minimax requires same space as both follows depth first search algorithm . so the space for both algorithms is O(bd) where b is branching factor and d is depth."
      ],
      "metadata": {
        "id": "DDtdXvppTdhA"
      }
    },
    {
      "cell_type": "markdown",
      "source": [
        "##Is it possible to perform the node reordering to improve the pruning? (2M)"
      ],
      "metadata": {
        "id": "v-YLOMTomuKs"
      }
    },
    {
      "cell_type": "markdown",
      "source": [
        "###sol:Yes, node reordering is a technique that can be used to improve the effectiveness of alpha-beta pruning. Node reordering involves evaluating certain game tree branches earlier than others during the alpha-beta search.some of the methods are Move Ordering Heuristics,Transposition Table,Killer Moves and History Heuristics."
      ],
      "metadata": {
        "id": "GHRXRVyNm2Aw"
      }
    }
  ]
}